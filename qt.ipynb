{
 "cells": [
  {
   "cell_type": "code",
   "execution_count": 1,
   "id": "7e1388fc-75ec-4d92-87eb-031678b502ba",
   "metadata": {},
   "outputs": [],
   "source": [
    "import numpy as np\n",
    "import sympy\n",
    "import qualtran\n",
    "from qualtran.bloqs.qft import QFTTextBook\n",
    "from qualtran.drawing import show_bloqs, show_call_graph, show_counts_sigma\n",
    "from qualtran.resource_counting.generalizers import ignore_split_join"
   ]
  },
  {
   "cell_type": "code",
   "execution_count": 2,
   "id": "b8d735ff-7777-466f-8638-a2f79c5e9b38",
   "metadata": {},
   "outputs": [
    {
     "data": {
      "application/vnd.jupyter.widget-view+json": {
       "model_id": "f789a7c8d62342bca8d4e151c4435c5b",
       "version_major": 2,
       "version_minor": 0
      },
      "text/plain": [
       "HBox(children=(Output(outputs=({'output_type': 'display_data', 'data': {'text/plain': '<IPython.core.display.M…"
      ]
     },
     "metadata": {},
     "output_type": "display_data"
    },
    {
     "data": {
      "image/svg+xml": [
       "<svg xmlns=\"http://www.w3.org/2000/svg\" xmlns:xlink=\"http://www.w3.org/1999/xlink\" width=\"435pt\" height=\"133pt\" viewBox=\"0.00 0.00 434.62 132.50\">\n",
       "<g id=\"graph0\" class=\"graph\" transform=\"scale(1 1) rotate(0) translate(4 128.5)\">\n",
       "<title>counts</title>\n",
       "<polygon fill=\"white\" stroke=\"none\" points=\"-4,4 -4,-128.5 430.62,-128.5 430.62,4 -4,4\"/>\n",
       "<!-- b0 -->\n",
       "<g id=\"node1\" class=\"node\">\n",
       "<title>b0</title>\n",
       "<polygon fill=\"none\" stroke=\"black\" points=\"163.38,-94.88 163.38,-118.12 234.62,-118.12 234.62,-94.88 163.38,-94.88\"/>\n",
       "<text text-anchor=\"start\" x=\"169.38\" y=\"-102.62\" font-family=\"Times,serif\" font-size=\"10.00\">QFTTextBook</text>\n",
       "</g>\n",
       "<!-- b1 -->\n",
       "<g id=\"node2\" class=\"node\">\n",
       "<title>b1</title>\n",
       "<polygon fill=\"none\" stroke=\"black\" points=\"17.25,-6.38 17.25,-29.62 36.75,-29.62 36.75,-6.38 17.25,-6.38\"/>\n",
       "<text text-anchor=\"start\" x=\"23.25\" y=\"-14.12\" font-family=\"Times,serif\" font-size=\"10.00\">H</text>\n",
       "</g>\n",
       "<!-- b0&#45;&gt;b1 -->\n",
       "<g id=\"edge1\" class=\"edge\">\n",
       "<title>b0-&gt;b1</title>\n",
       "<path fill=\"none\" stroke=\"black\" d=\"M165.43,-88.62C136.31,-73.97 94.21,-52.8 64.1,-37.66\"/>\n",
       "<polygon fill=\"black\" stroke=\"black\" points=\"65.85,-34.62 55.34,-33.25 62.7,-40.87 65.85,-34.62\"/>\n",
       "<text text-anchor=\"middle\" x=\"131.78\" y=\"-57.2\" font-family=\"Times,serif\" font-size=\"14.00\">3</text>\n",
       "</g>\n",
       "<!-- b2 -->\n",
       "<g id=\"node3\" class=\"node\">\n",
       "<title>b2</title>\n",
       "<polygon fill=\"none\" stroke=\"black\" points=\"79.62,-6.38 79.62,-29.62 182.38,-29.62 182.38,-6.38 79.62,-6.38\"/>\n",
       "<text text-anchor=\"start\" x=\"85.62\" y=\"-14.12\" font-family=\"Times,serif\" font-size=\"10.00\">PhaseGradientUnitary</text>\n",
       "</g>\n",
       "<!-- b0&#45;&gt;b2 -->\n",
       "<g id=\"edge2\" class=\"edge\">\n",
       "<title>b0-&gt;b2</title>\n",
       "<path fill=\"none\" stroke=\"black\" d=\"M185.89,-88.82C176.07,-76.34 162.47,-59.03 151.26,-44.77\"/>\n",
       "<polygon fill=\"black\" stroke=\"black\" points=\"154.17,-42.81 145.24,-37.11 148.67,-47.14 154.17,-42.81\"/>\n",
       "<text text-anchor=\"middle\" x=\"174.47\" y=\"-57.2\" font-family=\"Times,serif\" font-size=\"14.00\">1</text>\n",
       "</g>\n",
       "<!-- b3 -->\n",
       "<g id=\"node4\" class=\"node\">\n",
       "<title>b3</title>\n",
       "<polygon fill=\"none\" stroke=\"black\" points=\"216.62,-6.38 216.62,-29.62 319.38,-29.62 319.38,-6.38 216.62,-6.38\"/>\n",
       "<text text-anchor=\"start\" x=\"222.62\" y=\"-14.12\" font-family=\"Times,serif\" font-size=\"10.00\">PhaseGradientUnitary</text>\n",
       "</g>\n",
       "<!-- b0&#45;&gt;b3 -->\n",
       "<g id=\"edge3\" class=\"edge\">\n",
       "<title>b0-&gt;b3</title>\n",
       "<path fill=\"none\" stroke=\"black\" d=\"M212.3,-88.82C222.26,-76.34 236.07,-59.03 247.44,-44.77\"/>\n",
       "<polygon fill=\"black\" stroke=\"black\" points=\"250.06,-47.11 253.56,-37.11 244.59,-42.74 250.06,-47.11\"/>\n",
       "<text text-anchor=\"middle\" x=\"243.06\" y=\"-57.2\" font-family=\"Times,serif\" font-size=\"14.00\">1</text>\n",
       "</g>\n",
       "<!-- b4 -->\n",
       "<g id=\"node5\" class=\"node\">\n",
       "<title>b4</title>\n",
       "<polygon fill=\"none\" stroke=\"black\" points=\"353.38,-6.38 353.38,-29.62 418.62,-29.62 418.62,-6.38 353.38,-6.38\"/>\n",
       "<text text-anchor=\"start\" x=\"359.38\" y=\"-14.12\" font-family=\"Times,serif\" font-size=\"10.00\">TwoBitSwap</text>\n",
       "</g>\n",
       "<!-- b0&#45;&gt;b4 -->\n",
       "<g id=\"edge4\" class=\"edge\">\n",
       "<title>b0-&gt;b4</title>\n",
       "<path fill=\"none\" stroke=\"black\" d=\"M235.5,-88.62C265.14,-74.91 307.13,-55.48 339.23,-40.64\"/>\n",
       "<polygon fill=\"black\" stroke=\"black\" points=\"340.29,-44 347.9,-36.62 337.35,-37.65 340.29,-44\"/>\n",
       "<text text-anchor=\"middle\" x=\"312.62\" y=\"-57.2\" font-family=\"Times,serif\" font-size=\"14.00\">1</text>\n",
       "</g>\n",
       "</g>\n",
       "</svg>"
      ],
      "text/plain": [
       "<IPython.core.display.SVG object>"
      ]
     },
     "metadata": {},
     "output_type": "display_data"
    },
    {
     "data": {
      "text/markdown": [
       "#### Counts totals:\n",
       " - `H`: 3\n",
       " - `PhaseGradientUnitary`: 1\n",
       " - `PhaseGradientUnitary`: 1\n",
       " - `TwoBitSwap`: 1"
      ],
      "text/plain": [
       "<IPython.core.display.Markdown object>"
      ]
     },
     "metadata": {},
     "output_type": "display_data"
    }
   ],
   "source": [
    "qft_text_book = QFTTextBook(3)\n",
    "n = sympy.symbols('n')\n",
    "symbolic_qft = QFTTextBook(bitsize=n)\n",
    "show_bloqs([qft_text_book, symbolic_qft],\n",
    "           ['`qft_text_book`', '`symbolic_qft`'])\n",
    "qft_text_book_g, qft_text_book_sigma = qft_text_book.call_graph(max_depth=1, generalizer=ignore_split_join)\n",
    "show_call_graph(qft_text_book_g)\n",
    "show_counts_sigma(qft_text_book_sigma)"
   ]
  },
  {
   "cell_type": "code",
   "execution_count": null,
   "id": "65d8f7a1-0032-446b-b215-ce6ed81a8e9c",
   "metadata": {},
   "outputs": [],
   "source": []
  }
 ],
 "metadata": {
  "kernelspec": {
   "display_name": "Python 3 (ipykernel)",
   "language": "python",
   "name": "python3"
  },
  "language_info": {
   "codemirror_mode": {
    "name": "ipython",
    "version": 3
   },
   "file_extension": ".py",
   "mimetype": "text/x-python",
   "name": "python",
   "nbconvert_exporter": "python",
   "pygments_lexer": "ipython3",
   "version": "3.11.11"
  }
 },
 "nbformat": 4,
 "nbformat_minor": 5
}
